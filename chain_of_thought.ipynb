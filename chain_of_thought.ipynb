{
 "cells": [
  {
   "cell_type": "code",
   "execution_count": 53,
   "id": "initial_id",
   "metadata": {
    "collapsed": true,
    "ExecuteTime": {
     "end_time": "2024-04-12T05:14:23.120425Z",
     "start_time": "2024-04-12T05:14:23.096120Z"
    }
   },
   "outputs": [],
   "source": [
    "from openai import OpenAI\n",
    "import re\n",
    "client = OpenAI(\n",
    "    api_key=\"use your own openai-api-key"\n",
    ")\n",
    "\n",
    "# def get_completion_from_messages(messages, \n",
    "#                                  model=\"gpt-3.5-turbo\", \n",
    "#                                  temperature=0, max_tokens=4096):\n",
    "#     response = client.chat.completions.create(\n",
    "#         model=model,\n",
    "#         messages=messages,\n",
    "#         temperature=temperature, \n",
    "#         max_tokens=max_tokens, \n",
    "#     )\n",
    "#     return response.choices[0].message.content\n",
    "\n",
    "def get_completion_from_messages(messages, \n",
    "                                 model=\"gpt-4-turbo-2024-04-09\", \n",
    "                                 temperature=0, max_tokens=4096):\n",
    "    response = client.chat.completions.create(\n",
    "        model=model,\n",
    "        messages=messages,\n",
    "        temperature=temperature, \n",
    "        max_tokens=max_tokens, \n",
    "    )\n",
    "    return response.choices[0].message.content"
   ]
  },
  {
   "cell_type": "code",
   "execution_count": 54,
   "outputs": [],
   "source": [
    "def rewrite(text):\n",
    "    system_message = f\"\"\"\n",
    "        You're tasked with revising a piece of LaTeX code the user provided. Your goal is to improve the clarity, conciseness, and overall quality of the text within the LaTeX document. Follow the steps delimited within #### to ensure a comprehensive review and revision. The output requirements are delimited within &&&&.\n",
    "        \n",
    "        ####\n",
    "        1. Sentence Analysis:\n",
    "          1.1. Leave well-written sentences unchanged.\n",
    "          1.2. Correct any grammatical or spelling errors.\n",
    "          1.3. Enhance sentence structure for clarity and conciseness. Avoid passive voice and unnecessary technical jargon.\n",
    "          1.4. Choose precise and straightforward wording. Avoid rare or complex language for the sake of variety.\n",
    "          1.5. Maintain a neutral tone throughout.\n",
    "        \n",
    "        2. Logical Flow:\n",
    "          2.1. Reorder sentences if necessary to ensure a natural progression of ideas.\n",
    "          2.2. Implement smooth transitions to connect sentences logically.\n",
    "        \n",
    "        3. LaTeX Standards:\n",
    "          3.1. Verify that LaTeX symbols, citations, and equations adhere to standard conventions.\n",
    "        \n",
    "        ####\n",
    "        \n",
    "        &&&&\n",
    "        Your output should consist of two parts:\n",
    "        1. Sentence-by-Sentence Analysis:\n",
    "        For each sentence, provide:\n",
    "        The original sentence\n",
    "        The revised sentence\n",
    "        An explanation of the changes made and why\n",
    "        Format this section with headings for each sentence (\"Sentence 1\", \"Sentence 2\", etc.), followed by bullet points or indented lines for the original sentence, the revised sentence, and the reasoning.\n",
    "        \n",
    "        2. Revised LaTeX Code:\n",
    "        Conclude with the final revised version of the LaTeX document. Present it as a cohesive, corrected text, incorporating all the changes that were deemed significant.\n",
    "        &&&&\n",
    "    \"\"\"\n",
    "    messages =  [  \n",
    "    {'role':'system',\n",
    "     'content': system_message},    \n",
    "    {'role':'user',\n",
    "     'content': f\"Here is the latex code you need to revise: {text}\"},  \n",
    "    ] \n",
    "    response = get_completion_from_messages(messages)\n",
    "    return response"
   ],
   "metadata": {
    "collapsed": false,
    "ExecuteTime": {
     "end_time": "2024-04-12T05:14:23.782926Z",
     "start_time": "2024-04-12T05:14:23.779150Z"
    }
   },
   "id": "a4b5b808de081e6c"
  },
  {
   "cell_type": "code",
   "execution_count": 55,
   "outputs": [],
   "source": [
    "def justification(original_text, revised_text):\n",
    "    system_message = f\"\"\"\n",
    "    You have been provided with two versions of LaTeX code: the original and the revised. Your task is to evaluate the changes between these versions and determine whether they improve or degrade the quality of the text. To assist you in this evaluation, follow these guidelines focused on language simplicity:\n",
    "\n",
    "    Language Simplicity:\n",
    "    Favor simpler language. Substituting complex words with straight forward ones. For example:\n",
    "    Replace \"employs\" with \"uses\"\n",
    "    Replace \"Upon obtaining\" with \"Once we obtain\"\n",
    "    Replace \"elaborated\" with “detailed”\n",
    "    Replace \"encompassed\" with “include”\n",
    "    Replace \"utilized\" with \"uses\"\n",
    "    Replace \"rendering\" with \"making\"\n",
    "    Replace \"comprise\" with \"consist of\"\n",
    "    Replace \"via\" with \"using\"\n",
    "    Replace \"stem from\" with \"due to\"\n",
    "    Replace \"demands\" with \"requires\"\n",
    "    Replace \"comprehend\" with \"understand\"\n",
    "    ...\n",
    "    \n",
    "    Your output should consist of two parts:\n",
    "    1. Sentence-by-sentence justification:\n",
    "     ** Original sentence\n",
    "     ** Revised sentence\n",
    "     ** Evaluate the change\n",
    "     ** Further revision if needed\n",
    "    \n",
    "    2. The final revised LaTeX code.\n",
    "    \"\"\"\n",
    "    \n",
    "    messages =  [  \n",
    "    {'role':'system',\n",
    "     'content': system_message},    \n",
    "    {'role':'user',\n",
    "     'content': f\"Here is the original latex code: {original_text}\\n\"\n",
    "                f\"Here is the revised latex code: {revised_text}\"},  \n",
    "    ] \n",
    "    response = get_completion_from_messages(messages)\n",
    "    print(response)\n",
    "\n",
    "\n"
   ],
   "metadata": {
    "collapsed": false,
    "ExecuteTime": {
     "end_time": "2024-04-12T05:14:24.333131Z",
     "start_time": "2024-04-12T05:14:24.328074Z"
    }
   },
   "id": "8b9975690dfe9e1a"
  },
  {
   "cell_type": "code",
   "execution_count": 56,
   "outputs": [],
   "source": [
    "def improve_writing(text):\n",
    "    \n",
    "    revised_text = rewrite(text)\n",
    "    # extract the revised text from the output\n",
    "    # Regex pattern to find everything after the first \"Revised LaTeX Code\"\n",
    "    pattern = r\"Revised LaTeX Code(.*)\"\n",
    "    \n",
    "    # Using re.DOTALL to make the dot match newlines as well\n",
    "    # re.search is used here instead of re.findall to start from the first occurrence and capture everything after\n",
    "    match = re.search(pattern, revised_text, re.DOTALL)\n",
    "    \n",
    "    if match:\n",
    "        revised_text = match.group(1).strip()  # The captured group is everything after \"Revised LaTeX Code:\"\n",
    "        justification(text, revised_text)\n",
    "    else:\n",
    "        print(\"No 'Revised LaTeX Code' found.\")\n",
    "        \n",
    "    "
   ],
   "metadata": {
    "collapsed": false,
    "ExecuteTime": {
     "end_time": "2024-04-12T05:14:29.306287Z",
     "start_time": "2024-04-12T05:14:29.303328Z"
    }
   },
   "id": "a0ebbaaae606f8e"
  },
  {
   "cell_type": "code",
   "execution_count": 57,
   "outputs": [
    {
     "name": "stdout",
     "output_type": "stream",
     "text": [
      "### Sentence-by-sentence justification:\n",
      "\n",
      "1. **Original Sentence:** In this paper, we consider modeling arbitrarily censored survival data with spatio-temporal covariates.\n",
      "   **Revised Sentence:** In this paper, we model arbitrarily censored survival data using spatio-temporal covariates.\n",
      "   **Evaluation:** The revised sentence simplifies the language by changing \"consider modeling\" to \"model\" and replacing \"with\" with \"using,\" which is more direct and easier to understand.\n",
      "   **Further Revision:** No further revision needed.\n",
      "\n",
      "2. **Original Sentence:** We demonstrate that under the piecewise constant hazard function, the likelihood for uncensored or right-censored subjects is proportional to the likelihood of multiple conditionally independent Poisson random variables.\n",
      "   **Revised Sentence:** We show that with a piecewise constant hazard function, the likelihood for uncensored or right-censored subjects is proportional to that of multiple conditionally independent Poisson random variables.\n",
      "   **Evaluation:** The revision simplifies \"demonstrate\" to \"show,\" which is more straightforward. The phrase \"with a\" is simpler than \"under the,\" making the sentence clearer.\n",
      "   **Further Revision:** No further revision needed.\n",
      "\n",
      "3. **Original Sentence:** To address left- or interval-censored subjects, we propose to impute the exact event times and convert them into uncensored subjects, enabling the application of the integrated nested Laplace approximation (INLA) to update model parameters using the imputed data.\n",
      "   **Revised Sentence:** To handle left- or interval-censored subjects, we propose imputing the exact event times to convert them into uncensored subjects, thereby enabling the use of the integrated nested Laplace approximation (INLA) to update model parameters with the imputed data.\n",
      "   **Evaluation:** The revision simplifies \"address\" to \"handle\" and removes unnecessary words like \"to\" before \"impute,\" making the sentence more concise. The phrase \"thereby enabling\" also flows better than \"enabling the application of.\"\n",
      "   **Further Revision:** No further revision needed.\n",
      "\n",
      "4. **Original Sentence:** We introduce an iterative algorithm that alternates between imputing event times for left- and interval-censored subjects and re-estimating model parameters.\n",
      "   **Revised Sentence:** We introduce an iterative algorithm that alternates between imputing event times for left- and interval-censored subjects and re-estimating model parameters.\n",
      "   **Evaluation:** No changes were made in this sentence.\n",
      "   **Further Revision:** No further revision needed.\n",
      "\n",
      "5. **Original Sentence:** The proposed method is assessed through a simulation study and applied to analyze a spatio-temporal survival dataset in a wildlife disease study investigating bovine tuberculosis in white-tailed deer in Michigan.\n",
      "   **Revised Sentence:** We assess the proposed method through a simulation study and apply it to analyze a spatio-temporal survival dataset from a wildlife disease study on bovine tuberculosis in Michigan's white-tailed deer.\n",
      "   **Evaluation:** The revision simplifies the structure by changing passive voice (\"is assessed\") to active voice (\"We assess\"), which makes the sentence more direct and engaging. The phrase \"from a wildlife disease study on\" is clearer than \"in a wildlife disease study investigating.\"\n",
      "   **Further Revision:** No further revision needed.\n",
      "\n",
      "### Final Revised LaTeX Code:\n",
      "```\n",
      "In this paper, we model arbitrarily censored survival data using spatio-temporal covariates. We show that with a piecewise constant hazard function, the likelihood for uncensored or right-censored subjects is proportional to that of multiple conditionally independent Poisson random variables. To handle left- or interval-censored subjects, we propose imputing the exact event times to convert them into uncensored subjects, thereby enabling the use of the integrated nested Laplace approximation (INLA) to update model parameters with the imputed data. We introduce an iterative algorithm that alternates between imputing event times for left- and interval-censored subjects and re-estimating model parameters. We assess the proposed method through a simulation study and apply it to analyze a spatio-temporal survival dataset from a wildlife disease study on bovine tuberculosis in Michigan's white-tailed deer.\n",
      "```\n"
     ]
    }
   ],
   "source": [
    "text = f\"\"\"\n",
    "In this paper, we consider modeling arbitrarily censored survival data with spatio- temporal covariates. We demonstrate that under the piecewise constant hazard function, the likelihood for uncensored or right-censored subjects is proportional to the likelihood of multiple conditionally independent Poisson random variables. To address left- or interval-censored subjects, we propose to impute the exact event times and convert them into uncensored subjects, enabling the application of the inte- grated nested Laplace approximation (INLA) to update model parameters using the imputed data. We introduce an iterative algorithm that alternates between imputing event times for left- and interval-censored subjects and re-estimating model param- eters. The proposed method is assessed through a simulation study and applied to analyze a spatio-temporal survival dataset in a wildlife disease study investigating bovine tuberculosis in white-tailed deer in Michigan.\n",
    "\"\"\"\n",
    "\n",
    "improve_writing(text)\n"
   ],
   "metadata": {
    "collapsed": false,
    "ExecuteTime": {
     "end_time": "2024-04-12T05:15:43.130485Z",
     "start_time": "2024-04-12T05:14:30.511004Z"
    }
   },
   "id": "6bf001e6acf1db1e"
  }
 ],
 "metadata": {
  "kernelspec": {
   "display_name": "Python 3",
   "language": "python",
   "name": "python3"
  },
  "language_info": {
   "codemirror_mode": {
    "name": "ipython",
    "version": 2
   },
   "file_extension": ".py",
   "mimetype": "text/x-python",
   "name": "python",
   "nbconvert_exporter": "python",
   "pygments_lexer": "ipython2",
   "version": "2.7.6"
  }
 },
 "nbformat": 4,
 "nbformat_minor": 5
}
